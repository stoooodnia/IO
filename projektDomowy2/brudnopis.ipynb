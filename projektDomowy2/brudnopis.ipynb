{
 "cells": [
  {
   "cell_type": "code",
   "execution_count": null,
   "metadata": {
    "vscode": {
     "languageId": "plaintext"
    }
   },
   "outputs": [],
   "source": [
    "fig,ax = plt.subplots(nrows = 12, ncols=2, figsize=(20,120))\n",
    "row = 0\n",
    "col = 0\n",
    "for i in range(len(df_smote.columns) -1):\n",
    "    if col > 1:\n",
    "        row += 1\n",
    "        col = 0\n",
    "    axes = ax[row,col]\n",
    "    sns.boxplot(x = df_smote['smoking'], y = df_smote[df_smote.columns[i]],ax = axes)\n",
    "    col += 1\n",
    "plt.tight_layout()\n",
    "# plt.title(\"Individual Features by Class\")\n",
    "plt.show() \n",
    "\n",
    "# DUŻY OUTPUT"
   ]
  },
  {
   "attachments": {},
   "cell_type": "markdown",
   "metadata": {},
   "source": [
    "At this point we have equal quantity of smokers and non smokers (1:1), next step is dataset compression with PCA (Principal Component Analysis)\n"
   ]
  },
  {
   "cell_type": "code",
   "execution_count": null,
   "metadata": {
    "vscode": {
     "languageId": "plaintext"
    }
   },
   "outputs": [],
   "source": [
    "from sklearn.decomposition import PCA\n",
    "pca_iris= PCA(n_components=2).fit(df_smote)\n",
    "print(pca_iris)\n",
    "print(pca_iris.explained_variance_ratio_)\n",
    "print(pca_iris.components_)\n",
    "print(pca_iris.transform(df_smote))"
   ]
  }
 ],
 "metadata": {
  "kernelspec": {
   "display_name": "tensorflow",
   "language": "python",
   "name": "python3"
  },
  "language_info": {
   "codemirror_mode": {
    "name": "ipython",
    "version": 3
   },
   "file_extension": ".py",
   "mimetype": "text/x-python",
   "name": "python",
   "nbconvert_exporter": "python",
   "pygments_lexer": "ipython3",
   "version": "3.10.10"
  },
  "orig_nbformat": 4
 },
 "nbformat": 4,
 "nbformat_minor": 2
}
