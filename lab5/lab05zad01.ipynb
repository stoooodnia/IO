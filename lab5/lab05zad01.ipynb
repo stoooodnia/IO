{
 "cells": [
  {
   "cell_type": "code",
   "execution_count": null,
   "metadata": {},
   "outputs": [],
   "source": [
    "import pandas as pd\n",
    "df = pd.read_csv(\"iris.csv\")\n",
    "print(df);\n",
    "print(df.values)\n",
    "\n",
    "# wszystkie wiersze, kolumna nr 0\n",
    "# print(df.values[:, 0])\n",
    "# wiersze od 5 do 10, wszystkie kolumnyprint(df.values[5:11, :])\n",
    "# dane w komórce [1,4]print(df.values[1, 4])\n",
    "\n"
   ]
  },
  {
   "cell_type": "code",
   "execution_count": null,
   "metadata": {},
   "outputs": [],
   "source": [
    "from sklearn.model_selection import train_test_split\n",
    "\n",
    "#podzial na zbior testowy (30%) i treningowy (70%), ziarno losowosci = 13\n",
    "(train_set, test_set) = train_test_split(df.values, train_size=0.7, random_state=13)\n",
    "\n",
    "print(test_set)\n",
    "print(test_set.shape[0])\n",
    "\n",
    "train_inputs = train_set[:, 0:4]\n",
    "train_classes = train_set[:, 4]\n",
    "test_inputs = test_set[:, 0:4]\n",
    "test_classes = test_set[:, 4]\n"
   ]
  }
 ],
 "metadata": {
  "language_info": {
   "name": "python"
  },
  "orig_nbformat": 4
 },
 "nbformat": 4,
 "nbformat_minor": 2
}
