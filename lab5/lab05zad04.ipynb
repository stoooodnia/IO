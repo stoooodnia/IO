{
 "cells": [
  {
   "cell_type": "code",
   "execution_count": 1,
   "metadata": {},
   "outputs": [],
   "source": [
    "import pandas as pd \n",
    "from sklearn.model_selection import train_test_split \n",
    " \n",
    "df = pd.read_csv(\"iris.csv\") \n",
    " \n",
    "(train_set, test_set) = train_test_split(df.values, train_size=0.7, \n",
    "random_state=278784)\n"
   ]
  },
  {
   "cell_type": "code",
   "execution_count": 2,
   "metadata": {},
   "outputs": [],
   "source": [
    "import numpy as np\n",
    "import pandas as pd\n",
    "from matplotlib import pyplot as plt\n",
    "from sklearn.datasets import load_breast_cancer\n",
    "from sklearn.metrics import confusion_matrix, accuracy_score\n",
    "from sklearn.neighbors import KNeighborsClassifier\n",
    "from sklearn.model_selection import train_test_split\n",
    "import seaborn as sns\n",
    "sns.set()"
   ]
  },
  {
   "cell_type": "code",
   "execution_count": 3,
   "metadata": {},
   "outputs": [],
   "source": [
    "train_inputs = train_set[:, 0:4]\n",
    "train_classes = train_set[:, 4]\n",
    "test_inputs = test_set[:, 0:4]\n",
    "test_classes = test_set[:, 4]"
   ]
  },
  {
   "cell_type": "code",
   "execution_count": 4,
   "metadata": {},
   "outputs": [],
   "source": [
    "from sklearn.preprocessing import StandardScaler\n",
    "scaler = StandardScaler()\n",
    "scaler.fit(train_inputs)\n",
    "\n",
    "train_inputs = scaler.transform(train_inputs)\n",
    "test_inputs = scaler.transform(test_inputs)"
   ]
  },
  {
   "cell_type": "code",
   "execution_count": 7,
   "metadata": {},
   "outputs": [
    {
     "name": "stdout",
     "output_type": "stream",
     "text": [
      "0.9333333333333333\n",
      "KNN, k= 3\n",
      "Accuracy: 0.9333333333333333\n",
      "Confusion matrix:\n",
      " [[15  0  0]\n",
      " [ 0 13  1]\n",
      " [ 0  2 14]] \n",
      "\n",
      "\n",
      "0.9777777777777777\n",
      "KNN, k= 5\n",
      "Accuracy: 0.9777777777777777\n",
      "Confusion matrix:\n",
      " [[15  0  0]\n",
      " [ 0 14  0]\n",
      " [ 0  1 15]] \n",
      "\n",
      "\n",
      "0.9777777777777777\n",
      "KNN, k= 11\n",
      "Accuracy: 0.9777777777777777\n",
      "Confusion matrix:\n",
      " [[15  0  0]\n",
      " [ 0 14  0]\n",
      " [ 0  1 15]] \n",
      "\n",
      "\n"
     ]
    }
   ],
   "source": [
    "\n",
    "for k in [3, 5, 11]:\n",
    "    knn = KNeighborsClassifier(n_neighbors=k)\n",
    "    knn.fit(train_inputs, train_classes)\n",
    "    knn_pred = knn.predict(test_inputs)\n",
    "    knn_acc = knn.score(test_inputs, test_classes)\n",
    "    print(knn_acc)\n",
    "    knn_cm = confusion_matrix(test_classes, knn_pred)\n",
    "    print(\"KNN, k=\", k)\n",
    "    print(\"Accuracy:\", knn_acc)\n",
    "    print(\"Confusion matrix:\\n\", knn_cm, \"\\n\\n\")"
   ]
  },
  {
   "cell_type": "code",
   "execution_count": 6,
   "metadata": {},
   "outputs": [
    {
     "name": "stdout",
     "output_type": "stream",
     "text": [
      "0.9333333333333333\n"
     ]
    }
   ],
   "source": [
    "from sklearn.naive_bayes import GaussianNB\n",
    "\n",
    "# Build a Gaussian Classifier\n",
    "model = GaussianNB()\n",
    "\n",
    "# Model training\n",
    "model.fit(train_inputs, train_classes)\n",
    "\n",
    "# Predict Output\n",
    "predicted = model.predict(test_inputs)\n",
    "\n",
    "acc = accuracy_score(predicted, test_classes)\n",
    "print(acc)"
   ]
  },
  {
   "attachments": {},
   "cell_type": "markdown",
   "metadata": {},
   "source": [
    "Najlepsze wyniki dają 5NN i 11NN, a reszta takie same wyniki. Dokładność nie daje nam jednoznacznych wniosków. "
   ]
  }
 ],
 "metadata": {
  "kernelspec": {
   "display_name": "Python 3",
   "language": "python",
   "name": "python3"
  },
  "language_info": {
   "codemirror_mode": {
    "name": "ipython",
    "version": 3
   },
   "file_extension": ".py",
   "mimetype": "text/x-python",
   "name": "python",
   "nbconvert_exporter": "python",
   "pygments_lexer": "ipython3",
   "version": "3.10.8"
  },
  "orig_nbformat": 4
 },
 "nbformat": 4,
 "nbformat_minor": 2
}
