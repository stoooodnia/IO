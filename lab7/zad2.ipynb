{
 "cells": [
  {
   "cell_type": "code",
   "execution_count": 1,
   "metadata": {},
   "outputs": [],
   "source": [
    "from sklearn.metrics import confusion_matrix\n",
    "import matplotlib.pyplot as plt\n",
    "from tensorflow.keras.models import Sequential\n",
    "from tensorflow.keras.layers import (Conv2D, Dense, Dropout, Flatten,\n",
    "                                     MaxPooling2D)\n",
    "from sklearn.model_selection import train_test_split\n",
    "import os\n",
    "\n",
    "import numpy as np\n",
    "from PIL import Image\n",
    "\n",
    "# ścieżka do folderu z danymi\n",
    "data_dir = 'dogs-cats-mini'\n",
    "\n",
    "# funkcja do przetwarzania obrazów\n",
    "\n",
    "\n",
    "def process_image(img_path):\n",
    "    img = Image.open(img_path)\n",
    "    # zmiana rozmiaru obrazu na 64x64 piksele\n",
    "    img = img.resize((64, 64))\n",
    "    # konwersja obrazu na tablicę numpy\n",
    "    img_array = np.array(img)\n",
    "    # normalizacja wartości pikseli do zakresu [0, 1]\n",
    "    img_array = img_array / 255.\n",
    "    # wyciągnięcie klasy (cat/dog) z nazwy pliku\n",
    "    label = os.path.splitext(os.path.basename(img_path))[0]\n",
    "    label = label.split('.')[0]\n",
    "    label_number = 0 if label == 'cat' else 1\n",
    "    return (img_array, label_number)\n",
    "\n",
    "\n",
    "# lista z danymi (obraz i etykieta)\n",
    "data = []\n",
    "# przetworzenie wszystkich obrazów w folderze\n",
    "for filename in os.listdir(data_dir)[::50]:\n",
    "    if filename.endswith('.jpg'):\n",
    "        img_path = os.path.join(data_dir, filename)\n",
    "        img_data = process_image(img_path)\n",
    "        data.append(img_data)\n",
    "\n",
    "# podział danych na tablicę z obrazami i tablicę z etykietami\n",
    "images = np.array([x[0] for x in data])\n",
    "labels = np.array([x[1] for x in data])\n"
   ]
  },
  {
   "cell_type": "code",
   "execution_count": 2,
   "metadata": {},
   "outputs": [],
   "source": [
    "\n",
    "# podział danych na zbiór treningowy i testowy\n",
    "train_images, test_images, train_labels, test_labels = train_test_split(\n",
    "    images, labels, test_size=0.2, random_state=42)\n"
   ]
  },
  {
   "cell_type": "code",
   "execution_count": 3,
   "metadata": {},
   "outputs": [],
   "source": [
    "# definicja modelu sieci konwolucyjnej\n",
    "model = Sequential()\n",
    "model.add(Conv2D(32, (3, 3), activation='relu', input_shape=(64, 64, 3)))\n",
    "model.add(MaxPooling2D((2, 2)))\n",
    "model.add(Conv2D(64, (3, 3), activation='relu'))\n",
    "model.add(MaxPooling2D((2, 2)))\n",
    "model.add(Conv2D(128, (3, 3), activation='relu'))\n",
    "model.add(MaxPooling2D((2, 2)))\n",
    "model.add(Flatten())\n",
    "model.add(Dense(128, activation='relu'))\n",
    "model.add(Dropout(0.5))\n",
    "model.add(Dense(1, activation='sigmoid'))\n"
   ]
  },
  {
   "cell_type": "code",
   "execution_count": 6,
   "metadata": {},
   "outputs": [
    {
     "name": "stdout",
     "output_type": "stream",
     "text": [
      "Epoch 1/30\n",
      "10/10 [==============================] - 3s 128ms/step - loss: 0.0356 - accuracy: 0.9906 - val_loss: 1.9063 - val_accuracy: 0.6375\n",
      "Epoch 2/30\n",
      "10/10 [==============================] - 1s 99ms/step - loss: 0.0289 - accuracy: 0.9937 - val_loss: 1.7956 - val_accuracy: 0.6500\n",
      "Epoch 3/30\n",
      "10/10 [==============================] - 1s 111ms/step - loss: 0.0184 - accuracy: 0.9969 - val_loss: 2.0167 - val_accuracy: 0.6500\n",
      "Epoch 4/30\n",
      "10/10 [==============================] - 1s 96ms/step - loss: 0.0236 - accuracy: 0.9969 - val_loss: 2.0593 - val_accuracy: 0.6000\n",
      "Epoch 5/30\n",
      "10/10 [==============================] - 1s 110ms/step - loss: 0.0086 - accuracy: 1.0000 - val_loss: 2.2613 - val_accuracy: 0.6500\n",
      "Epoch 6/30\n",
      "10/10 [==============================] - 1s 96ms/step - loss: 0.0081 - accuracy: 1.0000 - val_loss: 2.2508 - val_accuracy: 0.6750\n",
      "Epoch 7/30\n",
      "10/10 [==============================] - 1s 96ms/step - loss: 0.0074 - accuracy: 1.0000 - val_loss: 2.3416 - val_accuracy: 0.6375\n",
      "Epoch 8/30\n",
      "10/10 [==============================] - 1s 99ms/step - loss: 0.0039 - accuracy: 1.0000 - val_loss: 2.4179 - val_accuracy: 0.6750\n",
      "Epoch 9/30\n",
      "10/10 [==============================] - 1s 109ms/step - loss: 0.0031 - accuracy: 1.0000 - val_loss: 2.7562 - val_accuracy: 0.6125\n",
      "Epoch 10/30\n",
      "10/10 [==============================] - 1s 96ms/step - loss: 0.0034 - accuracy: 1.0000 - val_loss: 2.5989 - val_accuracy: 0.6375\n",
      "Epoch 11/30\n",
      "10/10 [==============================] - 1s 100ms/step - loss: 0.0041 - accuracy: 1.0000 - val_loss: 2.7005 - val_accuracy: 0.6000\n",
      "Epoch 12/30\n",
      "10/10 [==============================] - 1s 94ms/step - loss: 0.0326 - accuracy: 0.9844 - val_loss: 2.3961 - val_accuracy: 0.6125\n",
      "Epoch 13/30\n",
      "10/10 [==============================] - 1s 92ms/step - loss: 0.0225 - accuracy: 0.9969 - val_loss: 2.3974 - val_accuracy: 0.6000\n",
      "Epoch 14/30\n",
      "10/10 [==============================] - 1s 89ms/step - loss: 0.0530 - accuracy: 0.9812 - val_loss: 2.5305 - val_accuracy: 0.6250\n",
      "Epoch 15/30\n",
      "10/10 [==============================] - 1s 106ms/step - loss: 0.0165 - accuracy: 0.9969 - val_loss: 2.5819 - val_accuracy: 0.6125\n",
      "Epoch 16/30\n",
      "10/10 [==============================] - 1s 101ms/step - loss: 0.0082 - accuracy: 1.0000 - val_loss: 2.3229 - val_accuracy: 0.6250\n",
      "Epoch 17/30\n",
      "10/10 [==============================] - 1s 100ms/step - loss: 0.0207 - accuracy: 0.9937 - val_loss: 2.5233 - val_accuracy: 0.6375\n",
      "Epoch 18/30\n",
      "10/10 [==============================] - 1s 88ms/step - loss: 0.0307 - accuracy: 0.9875 - val_loss: 1.9776 - val_accuracy: 0.6500\n",
      "Epoch 19/30\n",
      "10/10 [==============================] - 1s 89ms/step - loss: 0.0218 - accuracy: 0.9906 - val_loss: 2.2064 - val_accuracy: 0.6625\n",
      "Epoch 20/30\n",
      "10/10 [==============================] - 1s 106ms/step - loss: 0.0092 - accuracy: 1.0000 - val_loss: 2.2931 - val_accuracy: 0.6375\n",
      "Epoch 21/30\n",
      "10/10 [==============================] - 1s 107ms/step - loss: 0.0039 - accuracy: 1.0000 - val_loss: 2.4411 - val_accuracy: 0.6500\n",
      "Epoch 22/30\n",
      "10/10 [==============================] - 1s 106ms/step - loss: 0.0046 - accuracy: 1.0000 - val_loss: 2.5347 - val_accuracy: 0.6500\n",
      "Epoch 23/30\n",
      "10/10 [==============================] - 1s 112ms/step - loss: 0.0018 - accuracy: 1.0000 - val_loss: 2.6161 - val_accuracy: 0.6375\n",
      "Epoch 24/30\n",
      "10/10 [==============================] - 1s 124ms/step - loss: 0.0019 - accuracy: 1.0000 - val_loss: 2.7075 - val_accuracy: 0.5875\n",
      "Epoch 25/30\n",
      "10/10 [==============================] - 1s 94ms/step - loss: 0.0082 - accuracy: 0.9969 - val_loss: 3.0450 - val_accuracy: 0.6125\n",
      "Epoch 26/30\n",
      "10/10 [==============================] - 1s 103ms/step - loss: 0.0026 - accuracy: 1.0000 - val_loss: 2.8625 - val_accuracy: 0.6375\n",
      "Epoch 27/30\n",
      "10/10 [==============================] - 1s 102ms/step - loss: 0.0028 - accuracy: 1.0000 - val_loss: 2.8252 - val_accuracy: 0.6375\n",
      "Epoch 28/30\n",
      "10/10 [==============================] - 1s 103ms/step - loss: 0.0053 - accuracy: 0.9969 - val_loss: 3.0084 - val_accuracy: 0.6625\n",
      "Epoch 29/30\n",
      "10/10 [==============================] - 1s 100ms/step - loss: 0.0046 - accuracy: 1.0000 - val_loss: 3.0564 - val_accuracy: 0.6250\n",
      "Epoch 30/30\n",
      "10/10 [==============================] - 1s 106ms/step - loss: 0.0069 - accuracy: 1.0000 - val_loss: 2.7340 - val_accuracy: 0.6500\n"
     ]
    }
   ],
   "source": [
    "# kompilacja modelu\n",
    "model.compile(optimizer='adam', loss='binary_crossentropy',\n",
    "              metrics=['accuracy'])\n",
    "\n",
    "# wytrenowanie modelu\n",
    "history = model.fit(train_images, train_labels,\n",
    "                    epochs=30, validation_split=0.2)\n",
    "\n"
   ]
  },
  {
   "cell_type": "code",
   "execution_count": 7,
   "metadata": {},
   "outputs": [
    {
     "name": "stdout",
     "output_type": "stream",
     "text": [
      "<keras.callbacks.History object at 0x000001933C0CA020>\n"
     ]
    }
   ],
   "source": [
    "\n",
    "print(history)"
   ]
  },
  {
   "cell_type": "code",
   "execution_count": 8,
   "metadata": {},
   "outputs": [
    {
     "data": {
      "image/png": "[encoded data removed]",
      "text/plain": [
       "<Figure size 640x480 with 1 Axes>"
      ]
     },
     "metadata": {},
     "output_type": "display_data"
    }
   ],
   "source": [
    "# wykres krzywej uczenia się\n",
    "plt.plot(history.history['accuracy'], label='accuracy')\n",
    "plt.plot(history.history['val_accuracy'], label='val_accuracy')\n",
    "plt.xlabel('Epoch')\n",
    "plt.ylabel('Accuracy')\n",
    "plt.ylim([0.5, 1])\n",
    "plt.legend(loc='lower right')\n",
    "plt.show()\n"
   ]
  },
  {
   "cell_type": "code",
   "execution_count": 9,
   "metadata": {},
   "outputs": [
    {
     "name": "stdout",
     "output_type": "stream",
     "text": [
      "4/4 - 0s - loss: 2.4614 - accuracy: 0.6400 - 201ms/epoch - 50ms/step\n",
      "0.6399999856948853\n"
     ]
    }
   ],
   "source": [
    "# dokładność modelu na zbiorze testowym\n",
    "test_loss, test_acc = model.evaluate(test_images,  test_labels, verbose=2)\n",
    "\n",
    "print(test_acc)"
   ]
  },
  {
   "cell_type": "code",
   "execution_count": 10,
   "metadata": {},
   "outputs": [
    {
     "name": "stdout",
     "output_type": "stream",
     "text": [
      "4/4 [==============================] - 0s 19ms/step\n",
      "[[27 19]\n",
      " [17 37]]\n"
     ]
    }
   ],
   "source": [
    "# macierz błędu\n",
    "\n",
    "# predykcja na zbiorze testowym\n",
    "predictions = model.predict(test_images)\n",
    "# zamiana prawdopodobieństw na klasy\n",
    "predictions = np.where(predictions > 0.5, 1, 0)\n",
    "# wygenerowanie macierzy błędu\n",
    "cm = confusion_matrix(test_labels, predictions)\n",
    "# wyświetlenie macierzy błędu\n",
    "print(cm)"
   ]
  },
  {
   "attachments": {},
   "cell_type": "markdown",
   "metadata": {},
   "source": [
    "1. 27 - liczby próbek, które zostały poprawnie sklasyfikowane jako koty\n",
    "2. 29 - Liczba próbek, które zostały błędnie sklasyfikowane jako psy, podczas gdy są kotami\n",
    "3. 17 - Liczba próbek, które zostały błędnie sklasyfikowane jako koty, podczas gdy są psami\n",
    "4. 37 - Liczba próbek, które zostały poprawnie sklasyfikowane jako psy"
   ]
  }
 ],
 "metadata": {
  "kernelspec": {
   "display_name": "Python 3",
   "language": "python",
   "name": "python3"
  },
  "language_info": {
   "codemirror_mode": {
    "name": "ipython",
    "version": 3
   },
   "file_extension": ".py",
   "mimetype": "text/x-python",
   "name": "python",
   "nbconvert_exporter": "python",
   "pygments_lexer": "ipython3",
   "version": "3.10.0"
  },
  "orig_nbformat": 4
 },
 "nbformat": 4,
 "nbformat_minor": 2
}
