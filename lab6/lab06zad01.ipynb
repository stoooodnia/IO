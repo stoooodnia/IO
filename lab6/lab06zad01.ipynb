{
 "cells": [
  {
   "cell_type": "code",
   "execution_count": null,
   "metadata": {},
   "outputs": [],
   "source": [
    "wagi_od_lewej_od_góry = [\n",
    "    -0.46122,\n",
    "    0.78548,\n",
    "    0.97314,\n",
    "    2.10584,\n",
    "    -0.39203,\n",
    "    -0.57847,\n",
    "    0.80109,\n",
    "    0.43529,\n",
    "    -0.81546,\n",
    "    1.03775,\n",
    "    -0.2368\n",
    "]   "
   ]
  },
  {
   "cell_type": "code",
   "execution_count": null,
   "metadata": {},
   "outputs": [],
   "source": [
    "def forwardPass(wiek, waga, wzrost): \n",
    "    hidden1 = ... \n",
    "    hidden1_po_aktywacji = ... \n",
    "    hidden2 = ... \n",
    "    hidden2_po_aktywacji = ... \n",
    "    output =  ... \n",
    "    return output\n",
    "\n",
    "print(forwardPass(23,75,176))   \n",
    "print(forwardPass(25,67,180))\n"
   ]
  }
 ],
 "metadata": {
  "language_info": {
   "name": "python"
  },
  "orig_nbformat": 4
 },
 "nbformat": 4,
 "nbformat_minor": 2
}
