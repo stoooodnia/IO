{
 "cells": [
  {
   "cell_type": "code",
   "execution_count": 1,
   "metadata": {},
   "outputs": [
    {
     "name": "stdout",
     "output_type": "stream",
     "text": [
      "[[6.0 3.0 4.8 1.8 'virginica']\n",
      " [5.4 3.0 4.5 1.5 'versicolor']\n",
      " [4.8 3.0 1.4 0.3 'setosa']\n",
      " [4.7 3.2 1.3 0.2 'setosa']\n",
      " [5.1 3.8 1.5 0.3 'setosa']\n",
      " [5.6 2.7 4.2 1.3 'versicolor']\n",
      " [5.7 3.8 1.7 0.3 'setosa']\n",
      " [5.8 2.7 5.1 1.9 'virginica']\n",
      " [6.6 3.0 4.4 1.4 'versicolor']\n",
      " [5.1 3.8 1.6 0.2 'setosa']\n",
      " [4.6 3.6 1.0 0.2 'setosa']\n",
      " [5.1 2.5 3.0 1.1 'versicolor']\n",
      " [5.4 3.9 1.3 0.4 'setosa']\n",
      " [7.2 3.2 6.0 1.8 'virginica']\n",
      " [5.6 3.0 4.5 1.5 'versicolor']\n",
      " [6.4 3.2 5.3 2.3 'virginica']\n",
      " [6.3 3.3 4.7 1.6 'versicolor']\n",
      " [6.4 2.8 5.6 2.1 'virginica']\n",
      " [6.0 2.2 5.0 1.5 'virginica']\n",
      " [6.1 2.8 4.7 1.2 'versicolor']\n",
      " [5.1 3.5 1.4 0.2 'setosa']\n",
      " [5.2 4.1 1.5 0.1 'setosa']\n",
      " [7.7 3.0 6.1 2.3 'virginica']\n",
      " [5.4 3.9 1.7 0.4 'setosa']\n",
      " [7.7 3.8 6.7 2.2 'virginica']\n",
      " [6.4 2.9 4.3 1.3 'versicolor']\n",
      " [7.3 2.9 6.3 1.8 'virginica']\n",
      " [5.0 3.6 1.4 0.2 'setosa']\n",
      " [5.5 2.4 3.8 1.1 'versicolor']\n",
      " [5.1 3.3 1.7 0.5 'setosa']\n",
      " [5.3 3.7 1.5 0.2 'setosa']\n",
      " [5.8 2.6 4.0 1.2 'versicolor']\n",
      " [5.8 2.8 5.1 2.4 'virginica']\n",
      " [4.3 3.0 1.1 0.1 'setosa']\n",
      " [5.7 2.6 3.5 1.0 'versicolor']\n",
      " [6.7 3.0 5.2 2.3 'virginica']\n",
      " [4.4 2.9 1.4 0.2 'setosa']\n",
      " [6.4 3.1 5.5 1.8 'virginica']\n",
      " [5.5 3.5 1.3 0.2 'setosa']\n",
      " [6.0 3.4 4.5 1.6 'versicolor']\n",
      " [6.7 3.3 5.7 2.5 'virginica']\n",
      " [6.4 2.8 5.6 2.2 'virginica']\n",
      " [4.4 3.2 1.3 0.2 'setosa']\n",
      " [6.4 3.2 4.5 1.5 'versicolor']\n",
      " [5.7 4.4 1.5 0.4 'setosa']\n",
      " [6.7 3.1 4.4 1.4 'versicolor']\n",
      " [5.0 3.4 1.6 0.4 'setosa']\n",
      " [6.9 3.1 5.4 2.1 'virginica']\n",
      " [5.8 2.7 5.1 1.9 'virginica']\n",
      " [6.1 2.8 4.0 1.3 'versicolor']\n",
      " [5.7 3.0 4.2 1.2 'versicolor']\n",
      " [6.5 3.2 5.1 2.0 'virginica']\n",
      " [6.3 2.5 5.0 1.9 'virginica']\n",
      " [6.3 2.7 4.9 1.8 'virginica']\n",
      " [7.1 3.0 5.9 2.1 'virginica']\n",
      " [4.9 2.4 3.3 1.0 'versicolor']\n",
      " [4.9 3.1 1.5 0.1 'setosa']\n",
      " [5.0 3.5 1.3 0.3 'setosa']\n",
      " [7.4 2.8 6.1 1.9 'virginica']\n",
      " [4.7 3.2 1.6 0.2 'setosa']\n",
      " [5.5 4.2 1.4 0.2 'setosa']\n",
      " [5.0 3.2 1.2 0.2 'setosa']\n",
      " [6.9 3.1 4.9 1.5 'versicolor']\n",
      " [5.7 2.8 4.1 1.3 'versicolor']\n",
      " [5.1 3.4 1.5 0.2 'setosa']\n",
      " [6.3 2.8 5.1 1.5 'virginica']\n",
      " [6.4 2.7 5.3 1.9 'virginica']\n",
      " [4.8 3.4 1.6 0.2 'setosa']\n",
      " [4.6 3.4 1.4 0.3 'setosa']\n",
      " [5.7 2.8 4.5 1.3 'versicolor']\n",
      " [4.5 2.3 1.3 0.3 'setosa']\n",
      " [6.2 2.2 4.5 1.5 'versicolor']\n",
      " [7.7 2.8 6.7 2.0 'virginica']\n",
      " [5.8 2.7 4.1 1.0 'versicolor']\n",
      " [4.8 3.0 1.4 0.1 'setosa']\n",
      " [6.0 2.9 4.5 1.5 'versicolor']\n",
      " [5.9 3.0 4.2 1.5 'versicolor']\n",
      " [6.0 2.2 4.0 1.0 'versicolor']\n",
      " [5.1 3.5 1.4 0.3 'setosa']\n",
      " [5.5 2.4 3.7 1.0 'versicolor']\n",
      " [5.4 3.4 1.7 0.2 'setosa']\n",
      " [6.9 3.1 5.1 2.3 'virginica']\n",
      " [5.0 3.0 1.6 0.2 'setosa']\n",
      " [5.0 2.3 3.3 1.0 'versicolor']\n",
      " [5.5 2.3 4.0 1.3 'versicolor']\n",
      " [4.9 3.1 1.5 0.1 'setosa']\n",
      " [6.1 3.0 4.9 1.8 'virginica']\n",
      " [5.9 3.0 5.1 1.8 'virginica']\n",
      " [4.4 3.0 1.3 0.2 'setosa']\n",
      " [6.2 2.9 4.3 1.3 'versicolor']\n",
      " [6.3 2.5 4.9 1.5 'versicolor']\n",
      " [4.9 2.5 4.5 1.7 'virginica']\n",
      " [5.7 2.9 4.2 1.3 'versicolor']\n",
      " [5.6 3.0 4.1 1.3 'versicolor']\n",
      " [5.1 3.7 1.5 0.4 'setosa']\n",
      " [5.1 3.8 1.9 0.4 'setosa']\n",
      " [6.7 3.1 5.6 2.4 'virginica']\n",
      " [5.0 3.5 1.6 0.6 'setosa']\n",
      " [5.0 3.3 1.4 0.2 'setosa']\n",
      " [6.7 3.1 4.7 1.5 'versicolor']\n",
      " [5.2 2.7 3.9 1.4 'versicolor']\n",
      " [6.1 3.0 4.6 1.4 'versicolor']\n",
      " [7.9 3.8 6.4 2.0 'virginica']\n",
      " [6.7 3.0 5.0 1.7 'versicolor']\n",
      " [5.5 2.5 4.0 1.3 'versicolor']]\n",
      "[[6.3 3.3 6.0 2.5 'virginica']\n",
      " [5.2 3.4 1.4 0.2 'setosa']\n",
      " [6.2 2.8 4.8 1.8 'virginica']\n",
      " [6.8 3.0 5.5 2.1 'virginica']\n",
      " [6.5 3.0 5.2 2.0 'virginica']\n",
      " [7.2 3.6 6.1 2.5 'virginica']\n",
      " [4.8 3.4 1.9 0.2 'setosa']\n",
      " [7.2 3.0 5.8 1.6 'virginica']\n",
      " [6.2 3.4 5.4 2.3 'virginica']\n",
      " [6.5 3.0 5.5 1.8 'virginica']\n",
      " [6.3 3.4 5.6 2.4 'virginica']\n",
      " [4.6 3.2 1.4 0.2 'setosa']\n",
      " [5.2 3.5 1.5 0.2 'setosa']\n",
      " [6.3 2.9 5.6 1.8 'virginica']\n",
      " [4.8 3.1 1.6 0.2 'setosa']\n",
      " [6.6 2.9 4.6 1.3 'versicolor']\n",
      " [5.0 2.0 3.5 1.0 'versicolor']\n",
      " [5.6 2.9 3.6 1.3 'versicolor']\n",
      " [4.9 3.0 1.4 0.2 'setosa']\n",
      " [5.0 3.4 1.5 0.2 'setosa']\n",
      " [5.7 2.5 5.0 2.0 'virginica']\n",
      " [6.0 2.7 5.1 1.6 'versicolor']\n",
      " [4.9 3.1 1.5 0.1 'setosa']\n",
      " [4.6 3.1 1.5 0.2 'setosa']\n",
      " [5.6 2.5 3.9 1.1 'versicolor']\n",
      " [5.5 2.6 4.4 1.2 'versicolor']\n",
      " [5.8 4.0 1.2 0.2 'setosa']\n",
      " [7.7 2.6 6.9 2.3 'virginica']\n",
      " [7.0 3.2 4.7 1.4 'versicolor']\n",
      " [6.9 3.2 5.7 2.3 'virginica']\n",
      " [6.3 2.3 4.4 1.3 'versicolor']\n",
      " [6.1 2.6 5.6 1.4 'virginica']\n",
      " [6.7 2.5 5.8 1.8 'virginica']\n",
      " [5.4 3.4 1.5 0.4 'setosa']\n",
      " [5.9 3.2 4.8 1.8 'versicolor']\n",
      " [6.5 2.8 4.6 1.5 'versicolor']\n",
      " [6.1 2.9 4.7 1.4 'versicolor']\n",
      " [5.8 2.7 3.9 1.2 'versicolor']\n",
      " [6.5 3.0 5.8 2.2 'virginica']\n",
      " [5.4 3.7 1.5 0.2 'setosa']\n",
      " [6.8 2.8 4.8 1.4 'versicolor']\n",
      " [6.8 3.2 5.9 2.3 'virginica']\n",
      " [7.6 3.0 6.6 2.1 'virginica']\n",
      " [5.6 2.8 4.9 2.0 'virginica']\n",
      " [6.7 3.3 5.7 2.1 'virginica']]\n"
     ]
    }
   ],
   "source": [
    "import pandas as pd \n",
    "from sklearn.model_selection import train_test_split \n",
    " \n",
    "df = pd.read_csv(\"iris.csv\") \n",
    " \n",
    "(train_set, test_set) = train_test_split(df.values, train_size=0.7, \n",
    "random_state=278564)\n",
    "\n",
    "print(train_set)\n",
    "print(test_set)\n",
    " \n",
    " "
   ]
  },
  {
   "cell_type": "code",
   "execution_count": 2,
   "metadata": {},
   "outputs": [],
   "source": [
    "from sklearn import tree\n",
    "train_inputs = train_set[:, 0:4]\n",
    "train_classes = train_set[:, 4]\n",
    "test_inputs = test_set[:, 0:4]\n",
    "test_classes = test_set[:, 4]\n",
    "\n",
    "clf = tree.DecisionTreeClassifier()\n",
    "clf = clf.fit(train_inputs, train_classes)\n"
   ]
  },
  {
   "cell_type": "code",
   "execution_count": 3,
   "metadata": {},
   "outputs": [
    {
     "data": {
      "text/plain": [
       "[Text(0.5, 0.9, 'x[2] <= 2.45\\ngini = 0.663\\nsamples = 105\\nvalue = [38, 37, 30]'),\n",
       " Text(0.375, 0.7, 'gini = 0.0\\nsamples = 38\\nvalue = [38, 0, 0]'),\n",
       " Text(0.625, 0.7, 'x[3] <= 1.75\\ngini = 0.495\\nsamples = 67\\nvalue = [0, 37, 30]'),\n",
       " Text(0.5, 0.5, 'x[2] <= 4.95\\ngini = 0.139\\nsamples = 40\\nvalue = [0, 37, 3]'),\n",
       " Text(0.25, 0.3, 'x[3] <= 1.65\\ngini = 0.053\\nsamples = 37\\nvalue = [0, 36, 1]'),\n",
       " Text(0.125, 0.1, 'gini = 0.0\\nsamples = 36\\nvalue = [0, 36, 0]'),\n",
       " Text(0.375, 0.1, 'gini = 0.0\\nsamples = 1\\nvalue = [0, 0, 1]'),\n",
       " Text(0.75, 0.3, 'x[1] <= 2.9\\ngini = 0.444\\nsamples = 3\\nvalue = [0, 1, 2]'),\n",
       " Text(0.625, 0.1, 'gini = 0.0\\nsamples = 2\\nvalue = [0, 0, 2]'),\n",
       " Text(0.875, 0.1, 'gini = 0.0\\nsamples = 1\\nvalue = [0, 1, 0]'),\n",
       " Text(0.75, 0.5, 'gini = 0.0\\nsamples = 27\\nvalue = [0, 0, 27]')]"
      ]
     },
     "execution_count": 3,
     "metadata": {},
     "output_type": "execute_result"
    },
    {
     "data": {
      "image/png": "[encoded data removed]",
      "text/plain": [
       "<Figure size 640x480 with 1 Axes>"
      ]
     },
     "metadata": {},
     "output_type": "display_data"
    }
   ],
   "source": [
    "tree.plot_tree(clf)"
   ]
  },
  {
   "cell_type": "code",
   "execution_count": 4,
   "metadata": {},
   "outputs": [
    {
     "data": {
      "text/plain": [
       "0.9333333333333333"
      ]
     },
     "execution_count": 4,
     "metadata": {},
     "output_type": "execute_result"
    }
   ],
   "source": [
    "clf.score(test_inputs, test_classes)"
   ]
  },
  {
   "cell_type": "code",
   "execution_count": 5,
   "metadata": {},
   "outputs": [
    {
     "data": {
      "text/plain": [
       "array([[12,  0,  0],\n",
       "       [ 0, 11,  2],\n",
       "       [ 0,  1, 19]])"
      ]
     },
     "execution_count": 5,
     "metadata": {},
     "output_type": "execute_result"
    }
   ],
   "source": [
    "from sklearn.metrics import confusion_matrix\n",
    "\n",
    "confusion_matrix(test_classes, clf.predict(test_inputs))"
   ]
  }
 ],
 "metadata": {
  "kernelspec": {
   "display_name": "Python 3",
   "language": "python",
   "name": "python3"
  },
  "language_info": {
   "codemirror_mode": {
    "name": "ipython",
    "version": 3
   },
   "file_extension": ".py",
   "mimetype": "text/x-python",
   "name": "python",
   "nbconvert_exporter": "python",
   "pygments_lexer": "ipython3",
   "version": "3.10.8"
  },
  "orig_nbformat": 4
 },
 "nbformat": 4,
 "nbformat_minor": 2
}
