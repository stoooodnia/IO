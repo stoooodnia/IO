{
 "cells": [
  {
   "cell_type": "code",
   "execution_count": 37,
   "metadata": {},
   "outputs": [
    {
     "name": "stdout",
     "output_type": "stream",
     "text": [
      "True\n",
      "False\n",
      "False\n",
      "False\n"
     ]
    }
   ],
   "source": [
    "import math\n",
    "\n",
    "def prime(n):\n",
    "    if n == 1 :\n",
    "        return False\n",
    "    elif n == 2 :\n",
    "        return True\n",
    "    else :\n",
    "        for x in range(2, n) :\n",
    "            if n % x == 0 :\n",
    "                return False\n",
    "        return True\n",
    "\n",
    "print(prime(3))\n",
    "print(prime(4))\n",
    "print(prime(49))\n",
    "print(prime(51))"
   ]
  },
  {
   "cell_type": "code",
   "execution_count": 43,
   "metadata": {},
   "outputs": [
    {
     "name": "stdout",
     "output_type": "stream",
     "text": [
      "[1, 4, 6, 8, 9, 10]\n"
     ]
    }
   ],
   "source": [
    "def select_primes(x):\n",
    "    return [i for i in x if prime(i)]\n",
    "    \n",
    "print(select_primes([1,2,3,4,5,6,7,8,9,10]))"
   ]
  }
 ],
 "metadata": {
  "kernelspec": {
   "display_name": "Python 3",
   "language": "python",
   "name": "python3"
  },
  "language_info": {
   "codemirror_mode": {
    "name": "ipython",
    "version": 3
   },
   "file_extension": ".py",
   "mimetype": "text/x-python",
   "name": "python",
   "nbconvert_exporter": "python",
   "pygments_lexer": "ipython3",
   "version": "3.10.8"
  },
  "orig_nbformat": 4,
  "vscode": {
   "interpreter": {
    "hash": "aee8b7b246df8f9039afb4144a1f6fd8d2ca17a180786b69acc140d282b71a49"
   }
  }
 },
 "nbformat": 4,
 "nbformat_minor": 2
}
