{
 "cells": [
  {
   "cell_type": "code",
   "execution_count": null,
   "metadata": {},
   "outputs": [],
   "source": [
    "import pandas as pd\n",
    "import numpy as np\n",
    "from sklearn.model_selection import train_test_split\n",
    "from sklearn.neural_network import MLPClassifier\n",
    "from sklearn.metrics import accuracy_score\n",
    "from sklearn.metrics import confusion_matrix, ConfusionMatrixDisplay\n",
    "from sklearn.preprocessing import StandardScaler\n",
    "from sklearn.preprocessing import LabelEncoder"
   ]
  },
  {
   "cell_type": "code",
   "execution_count": null,
   "metadata": {},
   "outputs": [],
   "source": [
    "import pandas as pd \n",
    "from sklearn.model_selection import train_test_split \n",
    " \n",
    "df = pd.read_csv(\"diabetes.csv\") \n",
    " \n",
    "(train_set, test_set) = train_test_split(df.values, train_size=0.7, \n",
    "random_state=1337)\n",
    "\n",
    "\n"
   ]
  },
  {
   "cell_type": "code",
   "execution_count": null,
   "metadata": {},
   "outputs": [],
   "source": [
    "df = pd.read_csv(\"diabetes.csv\")\n",
    "(train_set, test_set) = train_test_split(df.values, train_size=0.7, random_state=278808)\n",
    "\n",
    "train_data = train_set[:, 0:8]\n",
    "train_labels = train_set[:, 8]\n",
    "\n",
    "test_data = test_set[:, 0:8]\n",
    "test_labels = test_set[:, 8]\n",
    "\n",
    "le = LabelEncoder()\n",
    "le.fit(train_labels)\n",
    "train_labels_encoded = le.transform(train_labels)\n",
    "test_labels_encoded = le.transform(test_labels)"
   ]
  },
  {
   "cell_type": "code",
   "execution_count": null,
   "metadata": {},
   "outputs": [],
   "source": [
    "from sklearn.preprocessing import LabelEncoder\n",
    "from sklearn.neural_network import MLPClassifier\n",
    "from sklearn.metrics import accuracy_score, confusion_matrix, ConfusionMatrixDisplay\n",
    "from sklearn.preprocessing import StandardScaler\n",
    "\n",
    "# create LabelEncoder object\n",
    "le = LabelEncoder()\n",
    "\n",
    "# fit LabelEncoder object on train_labels to create a mapping from words to numbers\n",
    "le.fit(train_labels)\n",
    "\n",
    "# transform train_labels and test_labels using the fitted LabelEncoder object to get numerical labels\n",
    "train_labels_encoded = le.transform(train_labels)\n",
    "test_labels_encoded = le.transform(test_labels)\n",
    "\n",
    "# create StandardScaler object and scale train_data and test_data\n",
    "scaler = StandardScaler()\n",
    "scaler.fit(train_data)\n",
    "train_data = scaler.transform(train_data)\n",
    "test_data = scaler.transform(test_data)\n",
    "\n",
    "# create MLPClassifier object with 6 neurons in the first hidden layer and 3 neurons in the second hidden layer\n",
    "mlp = MLPClassifier(hidden_layer_sizes=(6,3), max_iter=500, activation='relu')\n",
    "mlp.fit(train_data, train_labels_encoded)\n",
    "\n",
    "# use fitted MLPClassifier object to make predictions on test_data\n",
    "predictions_test = mlp.predict(test_data)\n",
    "\n",
    "# evaluate performance of MLPClassifier using predicted labels and test_labels_encoded\n",
    "print(\"Ewaluacja sieci z 6 i 3 neuranami w kolejnych warstwach ukrytych:\", accuracy_score(predictions_test, test_labels_encoded))\n",
    "cm = confusion_matrix(predictions_test, test_labels_encoded)\n",
    "disp = ConfusionMatrixDisplay(confusion_matrix=cm, display_labels=le.classes_)\n",
    "disp.plot()"
   ]
  }
 ],
 "metadata": {
  "language_info": {
   "name": "python"
  },
  "orig_nbformat": 4
 },
 "nbformat": 4,
 "nbformat_minor": 2
}
