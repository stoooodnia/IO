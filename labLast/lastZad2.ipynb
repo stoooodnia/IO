{
 "cells": [
  {
   "cell_type": "code",
   "execution_count": 2,
   "metadata": {},
   "outputs": [],
   "source": [
    "import gym\n",
    "import numpy\n",
    "import pygad"
   ]
  },
  {
   "cell_type": "code",
   "execution_count": 3,
   "metadata": {},
   "outputs": [
    {
     "name": "stderr",
     "output_type": "stream",
     "text": [
      "/Users/karolstudniarek/miniconda3/envs/tensorflow/lib/python3.10/site-packages/gym/utils/passive_env_checker.py:233: DeprecationWarning: `np.bool8` is a deprecated alias for `np.bool_`.  (Deprecated NumPy 1.24)\n",
      "  if not isinstance(terminated, (bool, np.bool8)):\n"
     ]
    },
    {
     "name": "stdout",
     "output_type": "stream",
     "text": [
      "Parameters of the best solution : [1. 0. 0. 1. 1. 1. 1. 0. 0. 2. 2. 0. 3. 1. 2. 2. 1. 0. 1. 0. 1. 0. 3. 2.\n",
      " 3. 1. 3. 2. 1. 2. 2. 3. 0. 0. 1. 1. 0. 1. 0. 3. 3. 3. 3. 3. 1. 1. 2. 0.\n",
      " 2. 2. 0. 1. 2. 0. 2. 3. 2. 3. 3. 1. 1. 1. 3. 3. 3. 1. 1. 3. 2. 0. 2. 2.\n",
      " 0. 2. 3. 1. 3. 1. 2. 1. 0. 0. 3. 3. 1. 2. 2. 3. 3. 1. 1. 3. 0. 2. 0. 1.\n",
      " 0. 3. 0. 3.]\n",
      "Fitness value of the best solution = 124.50025757596885\n"
     ]
    }
   ],
   "source": [
    "env = gym.make(\"LunarLander-v2\")#, render_mode=\"human\")\n",
    "\n",
    "\n",
    "observation, info = env.reset(seed=42)\n",
    "\n",
    "\n",
    "def run_solution(solution):\n",
    "    reward = 0\n",
    "    for step in solution:\n",
    "        observation, reward, terminated, truncated, info = env.step(int(step))\n",
    "        if terminated or truncated:\n",
    "            break\n",
    "    env.reset(seed=42)\n",
    "    return reward\n",
    "\n",
    "# --------------\n",
    "\n",
    "# przeprowadza symulacje - zwraca nagrode\n",
    "def fitness_func(ga_instance, solution, solution_idx):\n",
    "    return run_solution(solution)\n",
    "\n",
    "\n",
    "fitness_function = fitness_func\n",
    "\n",
    "num_generations = 50\n",
    "num_parents_mating = 10\n",
    "\n",
    "sol_per_pop = 60\n",
    "num_genes = 100\n",
    "\n",
    "parent_selection_type = \"sss\"\n",
    "keep_parents = 10\n",
    "\n",
    "crossover_type = \"single_point\"\n",
    "\n",
    "mutation_type = \"random\"\n",
    "mutation_percent_genes = 10\n",
    "\n",
    "ga_instance = pygad.GA(num_generations=num_generations,\n",
    "                       num_parents_mating=num_parents_mating,\n",
    "                       fitness_func=fitness_function,\n",
    "                       sol_per_pop=sol_per_pop,\n",
    "                       num_genes=num_genes,\n",
    "                       gene_space=[0,1,2,3], #actions available\n",
    "                       parent_selection_type=parent_selection_type,\n",
    "                       keep_parents=keep_parents,\n",
    "                       crossover_type=crossover_type,\n",
    "                       mutation_type=mutation_type,\n",
    "                       mutation_percent_genes=mutation_percent_genes)\n",
    "\n",
    "ga_instance.run()\n",
    "\n",
    "solution, solution_fitness, solution_idx = ga_instance.best_solution()\n",
    "print(\"Parameters of the best solution : {solution}\".format(solution=solution))\n",
    "print(\"Fitness value of the best solution = {solution_fitness}\".format(solution_fitness=solution_fitness))\n",
    "\n",
    "# prediction = numpy.sum(numpy.array(function_inputs)*solution)\n",
    "# print(\"Predicted output based on the best solution : {prediction}\".format(prediction=prediction))\n",
    "\n",
    "# ------------------\n",
    "env.close()"
   ]
  },
  {
   "cell_type": "code",
   "execution_count": 6,
   "metadata": {},
   "outputs": [
    {
     "name": "stdout",
     "output_type": "stream",
     "text": [
      "Parameters of the best solution : [0. 1. 3. 1. 0. 3. 2. 1. 0. 2. 3. 3. 3. 0. 3. 3. 1. 2. 2. 3. 2. 2. 2. 2.\n",
      " 3. 1. 2. 1. 2. 1. 3. 2. 0. 1. 1. 2. 2. 3. 1. 1. 2. 1. 1. 3. 1. 2. 1. 3.\n",
      " 1. 2. 1. 1. 3. 1. 3. 0. 2. 2. 3. 1. 1. 2. 3. 3.]\n",
      "Fitness value of the best solution = 1.0\n"
     ]
    }
   ],
   "source": [
    "env = gym.make('FrozenLake-v1', desc=None, map_name=\"8x8\", is_slippery=False)\n",
    "\n",
    "\n",
    "observation, info = env.reset(seed=42)\n",
    "\n",
    "\n",
    "def run_solution(solution):\n",
    "    reward = 0\n",
    "    for step in solution:\n",
    "        observation, reward, terminated, truncated, info = env.step(int(step))\n",
    "        if terminated or truncated:\n",
    "            break\n",
    "    env.reset(seed=42)\n",
    "    return reward\n",
    "\n",
    "# --------------\n",
    "\n",
    "# przeprowadza symulacje - zwraca nagrode\n",
    "def fitness_func(ga_instance, solution, solution_idx):\n",
    "    return run_solution(solution)\n",
    "\n",
    "\n",
    "fitness_function = fitness_func\n",
    "\n",
    "num_generations = 50\n",
    "num_parents_mating = 10\n",
    "\n",
    "sol_per_pop = 60\n",
    "num_genes = 64\n",
    "\n",
    "parent_selection_type = \"sss\"\n",
    "keep_parents = 10\n",
    "\n",
    "crossover_type = \"single_point\"\n",
    "\n",
    "mutation_type = \"random\"\n",
    "mutation_percent_genes = 10\n",
    "\n",
    "ga_instance = pygad.GA(num_generations=num_generations,\n",
    "                       num_parents_mating=num_parents_mating,\n",
    "                       fitness_func=fitness_function,\n",
    "                       sol_per_pop=sol_per_pop,\n",
    "                       num_genes=num_genes,\n",
    "                       gene_space=[0,1,2,3], #actions available\n",
    "                       parent_selection_type=parent_selection_type,\n",
    "                       keep_parents=keep_parents,\n",
    "                       crossover_type=crossover_type,\n",
    "                       mutation_type=mutation_type,\n",
    "                       mutation_percent_genes=mutation_percent_genes)\n",
    "\n",
    "ga_instance.run()\n",
    "\n",
    "solution, solution_fitness, solution_idx = ga_instance.best_solution()\n",
    "print(\"Parameters of the best solution : {solution}\".format(solution=solution))\n",
    "print(\"Fitness value of the best solution = {solution_fitness}\".format(solution_fitness=solution_fitness))\n",
    "\n",
    "# prediction = numpy.sum(numpy.array(function_inputs)*solution)\n",
    "# print(\"Predicted output based on the best solution : {prediction}\".format(prediction=prediction))\n",
    "\n",
    "# ------------------\n",
    "env.close()\n"
   ]
  },
  {
   "cell_type": "code",
   "execution_count": 4,
   "metadata": {},
   "outputs": [
    {
     "data": {
      "text/plain": [
       "120.5931037945204"
      ]
     },
     "execution_count": 4,
     "metadata": {},
     "output_type": "execute_result"
    },
    {
     "ename": "",
     "evalue": "",
     "output_type": "error",
     "traceback": [
      "\u001b[1;31mThe Kernel crashed while executing code in the the current cell or a previous cell. Please review the code in the cell(s) to identify a possible cause of the failure. Click <a href='https://aka.ms/vscodeJupyterKernelCrash'>here</a> for more info. View Jupyter <a href='command:jupyter.viewOutput'>log</a> for further details."
     ]
    }
   ],
   "source": [
    "env = gym.make(\"LunarLander-v2\", render_mode=\"human\")\n",
    "observation, info = env.reset(seed=42)\n",
    "\n",
    "\n",
    "def run_solution(solution):\n",
    "    reward = 0\n",
    "    for step in solution:\n",
    "        observation, reward, terminated, truncated, info = env.step(int(step))\n",
    "        if terminated or truncated:\n",
    "            break\n",
    "    env.reset(seed=42)\n",
    "    return reward\n",
    "\n",
    "\n",
    "# Fitness value of the best solution = 120.59311053864306\n",
    "\n",
    "\n",
    "sol = [2, 1, 2, 1, 2, 0, 0, 1, 1, 1, 3, 0, 1, 1, 3, 1, 0, 2, 1, 0, 0, 0, 0, 0,\n",
    "       3, 1, 2, 2, 1, 0, 1, 1, 1, 1, 1, 1, 3, 3, 0, 1, 0, 1, 2, 3, 0, 2, 0, 3,\n",
    "       2, 2, 0, 0, 3, 3, 3, 0, 0, 2, 3, 2, 0, 3, 1, 2, 0, 1, 3, 1, 3, 2, 2, 0,\n",
    "       2, 3, 1, 0, 0, 3, 3, 2, 0, 0, 3, 3, 0, 1, 3, 0, 1, 0, 0, 2, 3, 0, 3, 1,\n",
    "       3, 0, 3, 3]\n",
    "\n",
    "run_solution(sol)\n"
   ]
  },
  {
   "cell_type": "code",
   "execution_count": 3,
   "metadata": {},
   "outputs": [
    {
     "name": "stderr",
     "output_type": "stream",
     "text": [
      "/Users/karolstudniarek/miniconda3/envs/tensorflow/lib/python3.10/site-packages/gym/utils/passive_env_checker.py:233: DeprecationWarning: `np.bool8` is a deprecated alias for `np.bool_`.  (Deprecated NumPy 1.24)\n",
      "  if not isinstance(terminated, (bool, np.bool8)):\n"
     ]
    },
    {
     "data": {
      "text/plain": [
       "1.0"
      ]
     },
     "execution_count": 3,
     "metadata": {},
     "output_type": "execute_result"
    }
   ],
   "source": [
    "env = gym.make('FrozenLake-v1', desc=None, map_name=\"8x8\", is_slippery=False, render_mode=\"human\")\n",
    "observation, info = env.reset(seed=42)\n",
    "\n",
    "\n",
    "def run_solution(solution):\n",
    "    reward = 0\n",
    "    for step in solution:\n",
    "        observation, reward, terminated, truncated, info = env.step(int(step))\n",
    "        if terminated or truncated:\n",
    "            break\n",
    "    env.reset(seed=42)\n",
    "    return reward\n",
    "\n",
    "\n",
    "# Fitness value of the best solution = 120.59311053864306\n",
    "\n",
    "\n",
    "sol = [0, 0, 0, 0, 0, 3, 3, 2, 2, 1, 3, 1, 2, 2, 3, 3, 1, 2, 3, 1, 2, 2, 2, 2,\n",
    "       0, 2, 1, 1, 1, 1, 1, 1, 1, 2, 0, 1, 1, 0, 0, 1, 2, 1, 3, 1, 0, 0, 0, 1,\n",
    "       0, 2, 1, 1, 2, 2, 3, 2, 3, 1, 3, 1, 3, 0, 2, 1]\n",
    "\n",
    "run_solution(sol)"
   ]
  }
 ],
 "metadata": {
  "kernelspec": {
   "display_name": "tensorflow",
   "language": "python",
   "name": "python3"
  },
  "language_info": {
   "codemirror_mode": {
    "name": "ipython",
    "version": 3
   },
   "file_extension": ".py",
   "mimetype": "text/x-python",
   "name": "python",
   "nbconvert_exporter": "python",
   "pygments_lexer": "ipython3",
   "version": "3.10.10"
  },
  "orig_nbformat": 4
 },
 "nbformat": 4,
 "nbformat_minor": 2
}
