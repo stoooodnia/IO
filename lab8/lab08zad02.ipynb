{
 "cells": [
  {
   "cell_type": "code",
   "execution_count": 5,
   "metadata": {},
   "outputs": [],
   "source": [
    "positive = \"The Sofitel Grand Sopot is one of those places you can feel yourself transported to another world. It has earned and deserves the word \\\"Grand\\\" in its name. The rooms are beautiful, clean, well appointed, and tranquil. The views are stunning and the staff is 100% customer friendly. There is a private beach and an indoor swimming pool. I do recommend the breakfast buffet, and on at least one night treat yourself to a dinner in the dining room overlooking the Baltic Sea. The chef is a genius and it is all coordinated by Mr. Michal Dargacz the F & B Supervisor. All in all a wonderful experience.\"\n",
    "negative = \"What a complete disaster. Restaurant totally understaffed staff that were working moved at snails pace. 20 minutes to be offered even water to drink after being seated. I complained and was told by waiter he was doing his best. Food was OK but nothing special mark up on wine 70% . Breakfast newyears day . Que for breakfast as not enough tables. Staff even slower than newyears eve ordered coffee still waiting for that had to order from 3 waiters before being served. In the middle of service for 10 minute's no wait staff at all. Really not a 5 star experience at all. Do not come if you expect good food or good service.\""
   ]
  },
  {
   "cell_type": "code",
   "execution_count": 1,
   "metadata": {},
   "outputs": [
    {
     "name": "stderr",
     "output_type": "stream",
     "text": [
      "[nltk_data] Downloading package stopwords to\n",
      "[nltk_data]     /Users/karolstudniarek/nltk_data...\n",
      "[nltk_data]   Package stopwords is already up-to-date!\n",
      "[nltk_data] Downloading package punkt to\n",
      "[nltk_data]     /Users/karolstudniarek/nltk_data...\n",
      "[nltk_data]   Package punkt is already up-to-date!\n",
      "[nltk_data] Downloading package wordnet to\n",
      "[nltk_data]     /Users/karolstudniarek/nltk_data...\n",
      "[nltk_data]   Package wordnet is already up-to-date!\n"
     ]
    }
   ],
   "source": [
    "import nltk\n",
    "from nltk.sentiment import SentimentIntensityAnalyzer\n",
    "import text2emotion as te"
   ]
  },
  {
   "cell_type": "code",
   "execution_count": 6,
   "metadata": {},
   "outputs": [
    {
     "name": "stdout",
     "output_type": "stream",
     "text": [
      "Negative:  {'neg': 0.082, 'neu': 0.817, 'pos': 0.1, 'compound': 0.4904}\n",
      "Positive:  {'neg': 0.0, 'neu': 0.765, 'pos': 0.235, 'compound': 0.9766}\n"
     ]
    }
   ],
   "source": [
    "analyzer = SentimentIntensityAnalyzer()\n",
    "\n",
    "result_negative = analyzer.polarity_scores(negative)\n",
    "result_positive = analyzer.polarity_scores(positive)\n",
    "\n",
    "print(\"Negative: \", result_negative)\n",
    "print(\"Positive: \", result_positive)\n"
   ]
  },
  {
   "cell_type": "code",
   "execution_count": 7,
   "metadata": {},
   "outputs": [
    {
     "name": "stdout",
     "output_type": "stream",
     "text": [
      "Negative:  {'Happy': 0.17, 'Angry': 0.0, 'Surprise': 0.33, 'Sad': 0.33, 'Fear': 0.17}\n",
      "Positive:  {'Happy': 0.18, 'Angry': 0.12, 'Surprise': 0.41, 'Sad': 0.0, 'Fear': 0.29}\n"
     ]
    }
   ],
   "source": [
    "result_negative_emotion = te.get_emotion(negative)\n",
    "result_positive_emotion = te.get_emotion(positive)\n",
    "\n",
    "print(\"Negative: \", result_negative_emotion)\n",
    "print(\"Positive: \", result_positive_emotion)\n",
    "\n"
   ]
  },
  {
   "cell_type": "code",
   "execution_count": 9,
   "metadata": {},
   "outputs": [],
   "source": [
    "# spicing up!!\n",
    "positive = \"The Sofitel Grand Sopot is one of those places you can feel yourself transported to another world, my god it is really AMAZING! It has earned and deserves the word \\\"Grand\\\" in its name. The rooms are beautiful, clean, well appointed,  and tranquil. The views are stunning and the staff is 100% customer friendly, Im in love with them! There is a private beach and an indoor swimming pool. I do recommend the breakfast buffet, and on at least one night treat yourself to a dinner in the dining room overlooking the Baltic Sea. The chef is a genius and it is all coordinated by Mr. Michal Dargacz (really handsome hihi) the F & B Supervisor. All in all a wonderful experience.\"\n",
    "negative = \"What a complete fucking disaster. Restaurant totally understaffed staff that were working moved at snails pace. 20 minutes to be offered even water to drink after being seated, what a joke. I complained and was told by waiter he was doing his best and I should stop being a bitch and wait. Food was OK but nothing special mark up on wine 70% . Breakfast newyears day . Que for breakfast as not enough tables. Staff even slower than newyears eve, WHO WOULD EXPECT, ordered coffee still waiting for that had to order from 3 waiters before being served. In the middle of service for 10 minute's no wait staff at all. Really not a 5 star experience at all. Do not come if you expect good food or good service.\""
   ]
  },
  {
   "cell_type": "code",
   "execution_count": 10,
   "metadata": {},
   "outputs": [
    {
     "name": "stdout",
     "output_type": "stream",
     "text": [
      "Negative:  {'neg': 0.103, 'neu': 0.797, 'pos': 0.1, 'compound': 0.1613}\n",
      "Positive:  {'neg': 0.0, 'neu': 0.702, 'pos': 0.298, 'compound': 0.9909}\n"
     ]
    }
   ],
   "source": [
    "result_negative = analyzer.polarity_scores(negative)\n",
    "result_positive = analyzer.polarity_scores(positive)\n",
    "\n",
    "print(\"Negative: \", result_negative)\n",
    "print(\"Positive: \", result_positive)"
   ]
  },
  {
   "cell_type": "code",
   "execution_count": 11,
   "metadata": {},
   "outputs": [
    {
     "name": "stdout",
     "output_type": "stream",
     "text": [
      "Negative:  {'Happy': 0.31, 'Angry': 0.0, 'Surprise': 0.31, 'Sad': 0.25, 'Fear': 0.12}\n",
      "Positive:  {'Happy': 0.24, 'Angry': 0.1, 'Surprise': 0.43, 'Sad': 0.0, 'Fear': 0.24}\n"
     ]
    }
   ],
   "source": [
    "result_negative_emotion = te.get_emotion(negative)\n",
    "result_positive_emotion = te.get_emotion(positive)\n",
    "\n",
    "print(\"Negative: \", result_negative_emotion)\n",
    "print(\"Positive: \", result_positive_emotion)"
   ]
  }
 ],
 "metadata": {
  "kernelspec": {
   "display_name": "Python 3.10 (tensorflow)",
   "language": "python",
   "name": "tensorflow"
  },
  "language_info": {
   "codemirror_mode": {
    "name": "ipython",
    "version": 3
   },
   "file_extension": ".py",
   "mimetype": "text/x-python",
   "name": "python",
   "nbconvert_exporter": "python",
   "pygments_lexer": "ipython3",
   "version": "3.10.10"
  },
  "orig_nbformat": 4
 },
 "nbformat": 4,
 "nbformat_minor": 2
}
